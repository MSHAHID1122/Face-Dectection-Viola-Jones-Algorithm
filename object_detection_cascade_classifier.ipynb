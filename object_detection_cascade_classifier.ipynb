{
 "cells": [
  {
   "cell_type": "code",
   "execution_count": 67,
   "id": "b89f824f",
   "metadata": {},
   "outputs": [],
   "source": [
    "import numpy as np\n",
    "import cv2"
   ]
  },
  {
   "cell_type": "code",
   "execution_count": 76,
   "id": "d19dc3b0",
   "metadata": {},
   "outputs": [],
   "source": [
    "img = cv2.imread('./images/smile.png')\n",
    "cv2.imshow('image',img)\n",
    "cv2.waitKey(0)\n",
    "cv2.destroyAllWindows()"
   ]
  },
  {
   "cell_type": "code",
   "execution_count": 77,
   "id": "a8700b3a",
   "metadata": {},
   "outputs": [
    {
     "name": "stdout",
     "output_type": "stream",
     "text": [
      "successfull\n"
     ]
    }
   ],
   "source": [
    "#Loading cascade classifier called frontal face .... which has already been trained on 6000 plus images\n",
    "face_cascade = cv2.CascadeClassifier('./cascade_classifier/haarcascade_frontalface_default.xml')\n",
    "if face_cascade.empty():\n",
    "    print('Error check the path')\n",
    "else:\n",
    "    print('successfull')    "
   ]
  },
  {
   "cell_type": "code",
   "execution_count": 78,
   "id": "d4736fed",
   "metadata": {},
   "outputs": [
    {
     "name": "stdout",
     "output_type": "stream",
     "text": [
      "[[566 133  91  91]\n",
      " [327 138 111 111]\n",
      " [415  63 107 107]\n",
      " [492 460  65  65]\n",
      " [645  88 104 104]\n",
      " [162  93 104 104]\n",
      " [605 486  57  57]\n",
      " [270 209  98  98]\n",
      " [217 399  79  79]]\n",
      "[21 63 42  9 78 42  5  5  4]\n"
     ]
    }
   ],
   "source": [
    "# Detecting faces with cascade classifier\n",
    "face_cordinates,num_of_faces = face_cascade.detectMultiScale2(img)\n",
    "print(face_cordinates)\n",
    "print(num_of_faces)"
   ]
  },
  {
   "cell_type": "code",
   "execution_count": 79,
   "id": "68bd5806",
   "metadata": {},
   "outputs": [],
   "source": [
    "#drawing the rectange around the detected images\n",
    "img2  = img.copy()\n",
    "for (rect,stages) in zip(face_cordinates,num_of_faces):\n",
    "    if stages > 3:\n",
    "        x,y,w,h = rect\n",
    "        pt1 = (x,y)\n",
    "        pt2 = (x+w,y+h)\n",
    "        img2 = cv2.rectangle(img,pt1,pt2,(0,255,0),2)\n",
    "cv2.imshow('image',img2)\n",
    "cv2.waitKey(0)\n",
    "cv2.destroyAllWindows()                "
   ]
  },
  {
   "cell_type": "code",
   "execution_count": 82,
   "id": "b6333496",
   "metadata": {},
   "outputs": [],
   "source": [
    "# Eye dectection using cascade classifier\n",
    "img3 = img.copy()\n",
    "# In order to detect eyes first we need to detect face using cascade frontal face classifier\n",
    "face_detect_cascade = cv2.CascadeClassifier('./cascade_classifier/haarcascade_frontalface_default.xml')\n",
    "eye_cascade = cv2.CascadeClassifier('./cascade_classifier/haarcascade_eye.xml')\n",
    "smile_cascade = cv2.CascadeClassifier('./cascade_classifier/haarcascade_smile.xml')\n",
    "if face_detect_cascade.empty():\n",
    "    print('error reading frontalface_cascade xml')\n",
    "faces,stages = face_detect_cascade.detectMultiScale2(img3)\n",
    "\n",
    "for (face,stage) in zip(faces,stages):\n",
    "    if stage>8:\n",
    "        x,y,w,h = face\n",
    "        #crop the numpy array\n",
    "        crop_face = img3[y:y+h,x:x+w].copy()\n",
    "        eyes,num_of_eyes = eye_cascade.detectMultiScale2(crop_face)\n",
    "        for ex,ey,ew,eh in eyes:\n",
    "            eye_x = ew  // 2 + x+ex\n",
    "            eye_y =  eh // 2 + y+ey\n",
    "            cv2.circle(img3,(eye_x,eye_y),(ew+eh)//4,(255,0,0),2)\n",
    "        smile,num_of_smiles = smile_cascade.detectMultiScale2(crop_face)\n",
    "        for (smiles,n_smile) in zip(smile,num_of_smiles):\n",
    "            if n_smile>=20:\n",
    "                sx,sy,sw,sh= smiles\n",
    "                pt1 = (sx+x,sy+y)\n",
    "                pt2 = (x+sw+sx,sh+y+sy)\n",
    "                cv2.rectangle(img3,pt1,pt2,(0,0,255),2)\n",
    "cv2.imshow('image',img3)\n",
    "cv2.waitKey(0)\n",
    "cv2.destroyAllWindows()            \n",
    "\n"
   ]
  }
 ],
 "metadata": {
  "kernelspec": {
   "display_name": "venv",
   "language": "python",
   "name": "python3"
  },
  "language_info": {
   "codemirror_mode": {
    "name": "ipython",
    "version": 3
   },
   "file_extension": ".py",
   "mimetype": "text/x-python",
   "name": "python",
   "nbconvert_exporter": "python",
   "pygments_lexer": "ipython3",
   "version": "3.9.13"
  }
 },
 "nbformat": 4,
 "nbformat_minor": 5
}

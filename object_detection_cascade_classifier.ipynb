{
 "cells": [
  {
   "cell_type": "code",
   "execution_count": 3,
   "id": "b89f824f",
   "metadata": {},
   "outputs": [],
   "source": [
    "import numpy as np\n",
    "import cv2"
   ]
  },
  {
   "cell_type": "code",
   "execution_count": 7,
   "id": "d19dc3b0",
   "metadata": {},
   "outputs": [],
   "source": [
    "img = cv2.imread('./images/ronaldo.png')\n",
    "cv2.imshow('image',img)\n",
    "cv2.waitKey(0)\n",
    "cv2.destroyAllWindows()"
   ]
  },
  {
   "cell_type": "code",
   "execution_count": null,
   "id": "a8700b3a",
   "metadata": {},
   "outputs": [],
   "source": [
    "#Loading cascade classifier called frontal face .... which has already been trained on 6000 plus images\n",
    "face_cascade = cv2.CascadeClassifier('./images/cascade classifier/haarcascade_frotalface_default.xml')\n"
   ]
  }
 ],
 "metadata": {
  "kernelspec": {
   "display_name": "venv",
   "language": "python",
   "name": "python3"
  },
  "language_info": {
   "codemirror_mode": {
    "name": "ipython",
    "version": 3
   },
   "file_extension": ".py",
   "mimetype": "text/x-python",
   "name": "python",
   "nbconvert_exporter": "python",
   "pygments_lexer": "ipython3",
   "version": "3.9.13"
  }
 },
 "nbformat": 4,
 "nbformat_minor": 5
}

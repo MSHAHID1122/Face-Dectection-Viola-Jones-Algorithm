{
 "cells": [
  {
   "cell_type": "code",
   "execution_count": 2,
   "id": "b89f824f",
   "metadata": {},
   "outputs": [],
   "source": [
    "import numpy as np\n",
    "import cv2"
   ]
  },
  {
   "cell_type": "code",
   "execution_count": 7,
   "id": "d19dc3b0",
   "metadata": {},
   "outputs": [],
   "source": [
    "img = cv2.imread('./images/crowd.png')\n",
    "cv2.imshow('image',img)\n",
    "cv2.waitKey(0)\n",
    "cv2.destroyAllWindows()"
   ]
  },
  {
   "cell_type": "code",
   "execution_count": 8,
   "id": "a8700b3a",
   "metadata": {},
   "outputs": [
    {
     "name": "stdout",
     "output_type": "stream",
     "text": [
      "successfull\n"
     ]
    }
   ],
   "source": [
    "#Loading cascade classifier called frontal face .... which has already been trained on 6000 plus images\n",
    "face_cascade = cv2.CascadeClassifier('./cascade_classifier/haarcascade_frontalface_default.xml')\n",
    "if face_cascade.empty():\n",
    "    print('Error check the path')\n",
    "else:\n",
    "    print('successfull')    "
   ]
  },
  {
   "cell_type": "code",
   "execution_count": 13,
   "id": "d4736fed",
   "metadata": {},
   "outputs": [
    {
     "name": "stdout",
     "output_type": "stream",
     "text": [
      "[[ 62 114  27  27]\n",
      " [136 128  31  31]\n",
      " [403 133  30  30]\n",
      " [373 158  27  27]\n",
      " [ 21 162  27  27]\n",
      " [341 194  28  28]\n",
      " [244 182  32  32]]\n",
      "[10  9 16  6  7 12  4]\n"
     ]
    }
   ],
   "source": [
    "# Detecting faces with cascade classifier\n",
    "face_cordinates,num_of_faces = face_cascade.detectMultiScale2(img)\n",
    "print(face_cordinates)\n",
    "print(num_of_faces)"
   ]
  },
  {
   "cell_type": "code",
   "execution_count": 15,
   "id": "68bd5806",
   "metadata": {},
   "outputs": [],
   "source": [
    "#drawing the rectange around the detected images\n",
    "for (rect,stages) in zip(face_cordinates,num_of_faces):\n",
    "    if stages > 3:\n",
    "        x,y,w,h = rect\n",
    "        pt1 = (x,y)\n",
    "        pt2 = (x+w,y+h)\n",
    "        img2 = cv2.rectangle(img,pt1,pt2,(0,255,0),2)\n",
    "cv2.imshow('image',img2)\n",
    "cv2.waitKey(0)\n",
    "cv2.destroyAllWindows()        \n",
    "        \n"
   ]
  }
 ],
 "metadata": {
  "kernelspec": {
   "display_name": "venv",
   "language": "python",
   "name": "python3"
  },
  "language_info": {
   "codemirror_mode": {
    "name": "ipython",
    "version": 3
   },
   "file_extension": ".py",
   "mimetype": "text/x-python",
   "name": "python",
   "nbconvert_exporter": "python",
   "pygments_lexer": "ipython3",
   "version": "3.9.13"
  }
 },
 "nbformat": 4,
 "nbformat_minor": 5
}
